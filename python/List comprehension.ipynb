{
 "cells": [
  {
   "cell_type": "code",
   "execution_count": 16,
   "id": "13593bbd",
   "metadata": {},
   "outputs": [
    {
     "name": "stdout",
     "output_type": "stream",
     "text": [
      "[2, 4, 6, 8, 10]\n"
     ]
    }
   ],
   "source": [
    "a = [1,2,3,4,5]\n",
    "b = []\n",
    "for num in a:\n",
    "    b.append(num * 2) #тоже самое c = [num * 2 for num in a]\n",
    "print(b)"
   ]
  },
  {
   "cell_type": "code",
   "execution_count": 17,
   "id": "6241e8f2",
   "metadata": {},
   "outputs": [
    {
     "name": "stdout",
     "output_type": "stream",
     "text": [
      "[3, 6, 9, 12, 15]\n"
     ]
    }
   ],
   "source": [
    "range1 = [num * 3 for num in range(1,6)]\n",
    "print (range1)"
   ]
  },
  {
   "cell_type": "code",
   "execution_count": 18,
   "id": "3423c7a8",
   "metadata": {},
   "outputs": [
    {
     "name": "stdout",
     "output_type": "stream",
     "text": [
      "[1, 4, 3, 5, 6]\n"
     ]
    }
   ],
   "source": [
    "s_filtered = [1,10,12,4,3,5,6] #s_filtered = [num for num in s_filtered if num < 10]\n",
    "                                #print(s_filtered)\n",
    "r= []\n",
    "for num in s_filtered:\n",
    "    if num<10:\n",
    "        r.append(num)\n",
    "print(r)"
   ]
  },
  {
   "cell_type": "code",
   "execution_count": 29,
   "id": "bb6ec43c",
   "metadata": {},
   "outputs": [
    {
     "name": "stdout",
     "output_type": "stream",
     "text": [
      "[1, 4, 9, 16]\n"
     ]
    }
   ],
   "source": [
    "a_filtered_squared = [num ** 2 for num in a if num <= 4]\n",
    "print(a_filtered_squared)"
   ]
  },
  {
   "cell_type": "code",
   "execution_count": 31,
   "id": "36ea3573",
   "metadata": {},
   "outputs": [
    {
     "name": "stdout",
     "output_type": "stream",
     "text": [
      "['gel', 'sell']\n"
     ]
    }
   ],
   "source": [
    "words = [\"gel\",\"sell\",\"guitar\",\"piano\"]\n",
    "words_filtered = [word for word in words if len(word) < 5]\n",
    "print(words_filtered)"
   ]
  },
  {
   "cell_type": "code",
   "execution_count": 41,
   "id": "d6d27f55",
   "metadata": {},
   "outputs": [
    {
     "name": "stdout",
     "output_type": "stream",
     "text": [
      "[20, 16, 12, 8, 4]\n"
     ]
    }
   ],
   "source": [
    "numbers = list(range(10,1,-1))\n",
    "number_filtered= [number*2 for number in numbers if number%2 == 0]\n",
    "print(number_filtered)"
   ]
  },
  {
   "cell_type": "code",
   "execution_count": 45,
   "id": "0e37a71b",
   "metadata": {},
   "outputs": [
    {
     "name": "stdout",
     "output_type": "stream",
     "text": [
      "['guitar.']\n"
     ]
    }
   ],
   "source": [
    "words = [\"gel\",\"sell\",\"guitar\",\"piano\"]\n",
    "words_filtered = [word + \".\" for word in words if len(word) > 5 ]\n",
    "print(words_filtered)"
   ]
  },
  {
   "cell_type": "code",
   "execution_count": null,
   "id": "26644a99",
   "metadata": {},
   "outputs": [],
   "source": []
  }
 ],
 "metadata": {
  "kernelspec": {
   "display_name": "Python 3 (ipykernel)",
   "language": "python",
   "name": "python3"
  },
  "language_info": {
   "codemirror_mode": {
    "name": "ipython",
    "version": 3
   },
   "file_extension": ".py",
   "mimetype": "text/x-python",
   "name": "python",
   "nbconvert_exporter": "python",
   "pygments_lexer": "ipython3",
   "version": "3.9.12"
  }
 },
 "nbformat": 4,
 "nbformat_minor": 5
}
