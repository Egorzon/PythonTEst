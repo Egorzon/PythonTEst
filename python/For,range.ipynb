{
 "cells": [
  {
   "cell_type": "code",
   "execution_count": 1,
   "id": "ee48e7d7",
   "metadata": {},
   "outputs": [],
   "source": [
    "a =['hey','hello','goodbye']"
   ]
  },
  {
   "cell_type": "code",
   "execution_count": 2,
   "id": "59ecbf92",
   "metadata": {},
   "outputs": [
    {
     "name": "stdout",
     "output_type": "stream",
     "text": [
      "hey\n",
      "hello\n",
      "goodbye\n"
     ]
    }
   ],
   "source": [
    "print(a[0])\n",
    "print(a[1])\n",
    "print(a[2])"
   ]
  },
  {
   "cell_type": "code",
   "execution_count": 3,
   "id": "9bf8f777",
   "metadata": {},
   "outputs": [
    {
     "name": "stdout",
     "output_type": "stream",
     "text": [
      "hey\n",
      "hello\n",
      "goodbye\n"
     ]
    }
   ],
   "source": [
    "for element in a:\n",
    "    print(element)"
   ]
  },
  {
   "cell_type": "code",
   "execution_count": 4,
   "id": "837453a6",
   "metadata": {},
   "outputs": [
    {
     "name": "stdout",
     "output_type": "stream",
     "text": [
      "hey\n",
      "hello\n",
      "goodbye\n"
     ]
    }
   ],
   "source": [
    "for abc in a:\n",
    "    print(abc)"
   ]
  },
  {
   "cell_type": "code",
   "execution_count": 5,
   "id": "6cc96009",
   "metadata": {},
   "outputs": [
    {
     "name": "stdout",
     "output_type": "stream",
     "text": [
      "20\n",
      "30\n",
      "50\n",
      "60\n"
     ]
    }
   ],
   "source": [
    "b = [20,30,50,60]\n",
    "for num in b:\n",
    "    print(num)"
   ]
  },
  {
   "cell_type": "code",
   "execution_count": 6,
   "id": "e589e8e6",
   "metadata": {},
   "outputs": [
    {
     "name": "stdout",
     "output_type": "stream",
     "text": [
      "160\n"
     ]
    }
   ],
   "source": [
    "total_sum = 0\n",
    "for numa in b:\n",
    "    total_sum = total_sum + numa\n",
    "print(total_sum)"
   ]
  },
  {
   "cell_type": "code",
   "execution_count": 7,
   "id": "235e268b",
   "metadata": {},
   "outputs": [
    {
     "data": {
      "text/plain": [
       "range(1, 5)"
      ]
     },
     "execution_count": 7,
     "metadata": {},
     "output_type": "execute_result"
    }
   ],
   "source": [
    "range(1,5)"
   ]
  },
  {
   "cell_type": "code",
   "execution_count": 8,
   "id": "36544847",
   "metadata": {},
   "outputs": [
    {
     "name": "stdout",
     "output_type": "stream",
     "text": [
      "[1, 2, 3, 4]\n"
     ]
    }
   ],
   "source": [
    "print(list(range(1,5)))"
   ]
  },
  {
   "cell_type": "code",
   "execution_count": 10,
   "id": "93de2ccf",
   "metadata": {},
   "outputs": [
    {
     "name": "stdout",
     "output_type": "stream",
     "text": [
      "1\n",
      "2\n",
      "3\n",
      "4\n"
     ]
    }
   ],
   "source": [
    "for i in range(1,5):\n",
    "    print(i)"
   ]
  },
  {
   "cell_type": "code",
   "execution_count": 11,
   "id": "f6ae664e",
   "metadata": {},
   "outputs": [],
   "source": [
    "total_sum2 = 0\n",
    "for i in range(1,5):\n",
    "    total_sum2 = total_sum2 + i #Тоже самое total_sum2 += i"
   ]
  },
  {
   "cell_type": "code",
   "execution_count": 12,
   "id": "3bada42b",
   "metadata": {},
   "outputs": [
    {
     "name": "stdout",
     "output_type": "stream",
     "text": [
      "10\n"
     ]
    }
   ],
   "source": [
    "print(total_sum2)"
   ]
  },
  {
   "cell_type": "code",
   "execution_count": 13,
   "id": "2464616c",
   "metadata": {},
   "outputs": [
    {
     "data": {
      "text/plain": [
       "2"
      ]
     },
     "execution_count": 13,
     "metadata": {},
     "output_type": "execute_result"
    }
   ],
   "source": [
    "5%3"
   ]
  },
  {
   "cell_type": "code",
   "execution_count": 19,
   "id": "170d7892",
   "metadata": {},
   "outputs": [
    {
     "name": "stdout",
     "output_type": "stream",
     "text": [
      "2318\n"
     ]
    }
   ],
   "source": [
    "total_sum3=0\n",
    "for i in range(1,100):\n",
    "    if i % 3 == 0 or i%5==0:\n",
    "        total_sum3+=i\n",
    "print(total_sum3)"
   ]
  },
  {
   "cell_type": "code",
   "execution_count": 3,
   "id": "3db1188e",
   "metadata": {},
   "outputs": [
    {
     "name": "stdout",
     "output_type": "stream",
     "text": [
      "0\n"
     ]
    }
   ],
   "source": [
    "def my_function(n,k):\n",
    "    sum=0\n",
    "    if n > 20:\n",
    "        for sum in range(1,n+1):  \n",
    "            return(0)\n",
    "    elif n < 20 or n == 20: #С else не работает с elif работает магия\n",
    "        even = n % 2\n",
    "        sum+=even*(even**k)\n",
    "        print(sum)\n",
    "d = my_function(2,3)\n",
    "    # n>20=>0\n",
    "    # n<=20=>range(1,n) все четные числа возвести в степень к и сложить сумму "
   ]
  },
  {
   "cell_type": "code",
   "execution_count": 11,
   "id": "1deb04f0",
   "metadata": {},
   "outputs": [
    {
     "name": "stdout",
     "output_type": "stream",
     "text": [
      "x допустимое значение\n",
      "25.0\n"
     ]
    }
   ],
   "source": [
    "x=4\n",
    "if x==0:\n",
    "    x=1\n",
    "    print('x был равен нулю')\n",
    "elif type(x) == type(5) or type(x) == type(5.5):\n",
    "    print('x допустимое значение')\n",
    "else:\n",
    "    print('другой тип данных')\n",
    "    x = 1\n",
    "print(100/x)"
   ]
  },
  {
   "cell_type": "code",
   "execution_count": 3,
   "id": "4ce82fdd",
   "metadata": {},
   "outputs": [
    {
     "name": "stdout",
     "output_type": "stream",
     "text": [
      "vk.com\n",
      "else\n"
     ]
    }
   ],
   "source": [
    "import os\n",
    "sayt = input()\n",
    "if 'https://' in sayt:\n",
    "    os.system('start '+sayt)\n",
    "    print('if')\n",
    "elif 'www.' in sayt:\n",
    "    sayt = 'https://' + sayt\n",
    "    os.system('start'+sayt)\n",
    "    print('elif')\n",
    "else:\n",
    "    sayt ='https://www.' + sayt\n",
    "    os.system('start'+sayt)\n",
    "    print('else')\n"
   ]
  },
  {
   "cell_type": "code",
   "execution_count": 2,
   "id": "cd36cd4d",
   "metadata": {},
   "outputs": [
    {
     "name": "stdout",
     "output_type": "stream",
     "text": [
      "Mike\n",
      "Tom\n",
      "Katy\n",
      "Alex\n"
     ]
    }
   ],
   "source": [
    "names = ['Mike','Tom','Katy','Alex']\n",
    "for element in names:\n",
    "    print(element)"
   ]
  },
  {
   "cell_type": "code",
   "execution_count": 5,
   "id": "729ad725",
   "metadata": {},
   "outputs": [
    {
     "name": "stdout",
     "output_type": "stream",
     "text": [
      "Mike\n",
      "Tom\n",
      "Katy\n",
      "Alex\n"
     ]
    }
   ],
   "source": [
    "for i in range(0,4):#0,1,2,3 лучше писать for i in range(len(names))\n",
    "    print(names[i])"
   ]
  },
  {
   "cell_type": "code",
   "execution_count": 11,
   "id": "f26ccb13",
   "metadata": {},
   "outputs": [
    {
     "name": "stdout",
     "output_type": "stream",
     "text": [
      "Mike\n",
      "Tom\n",
      "Tom\n",
      "Katy\n",
      "Katy\n",
      "Katy\n",
      "Alex\n",
      "Alex\n",
      "Alex\n",
      "Alex\n"
     ]
    }
   ],
   "source": [
    "for i in range(len(names)): #i=0 j=0\n",
    "    for j in range(i+1):  #i=1 j=0,1\n",
    "        print(names[i])     #i=2 j=0,1,2"
   ]
  },
  {
   "cell_type": "code",
   "execution_count": null,
   "id": "999e80c6",
   "metadata": {},
   "outputs": [],
   "source": []
  }
 ],
 "metadata": {
  "kernelspec": {
   "display_name": "Python 3 (ipykernel)",
   "language": "python",
   "name": "python3"
  },
  "language_info": {
   "codemirror_mode": {
    "name": "ipython",
    "version": 3
   },
   "file_extension": ".py",
   "mimetype": "text/x-python",
   "name": "python",
   "nbconvert_exporter": "python",
   "pygments_lexer": "ipython3",
   "version": "3.9.12"
  }
 },
 "nbformat": 4,
 "nbformat_minor": 5
}
