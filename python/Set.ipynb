{
 "cells": [
  {
   "cell_type": "code",
   "execution_count": 4,
   "id": "e27b027b",
   "metadata": {},
   "outputs": [
    {
     "name": "stdout",
     "output_type": "stream",
     "text": [
      "{'Hello', 1, 10, 5}\n"
     ]
    }
   ],
   "source": [
    "a = set([1,10,5,\"Hello\"]) #Множество\n",
    "print(a)"
   ]
  },
  {
   "cell_type": "code",
   "execution_count": 5,
   "id": "439befcc",
   "metadata": {},
   "outputs": [
    {
     "name": "stdout",
     "output_type": "stream",
     "text": [
      "{1, 'goll', 10, 'hello'}\n"
     ]
    }
   ],
   "source": [
    "b = {1,10,'hello',\"goll\"}\n",
    "print(b)"
   ]
  },
  {
   "cell_type": "code",
   "execution_count": 7,
   "id": "71a6f5a4",
   "metadata": {},
   "outputs": [
    {
     "name": "stdout",
     "output_type": "stream",
     "text": [
      "<class 'dict'>\n"
     ]
    }
   ],
   "source": [
    "a = {} # Словарь ,если добавить числа то множество\n",
    "print(type(a))"
   ]
  },
  {
   "cell_type": "code",
   "execution_count": 8,
   "id": "3f715f1e",
   "metadata": {},
   "outputs": [
    {
     "name": "stdout",
     "output_type": "stream",
     "text": [
      "set()\n"
     ]
    }
   ],
   "source": [
    "a = set()\n",
    "print(a)"
   ]
  },
  {
   "cell_type": "code",
   "execution_count": 11,
   "id": "9a740ffc",
   "metadata": {},
   "outputs": [],
   "source": [
    "a.add(1)\n",
    "a.add(6)\n",
    "a.add(\"sdsd\")\n",
    "a.add(\"lalasd\") # При добавлении в множество такого же элемента оно не измениться ,а если в список то оно добавится "
   ]
  },
  {
   "cell_type": "code",
   "execution_count": 15,
   "id": "a5f434ac",
   "metadata": {},
   "outputs": [
    {
     "name": "stdout",
     "output_type": "stream",
     "text": [
      "1\n",
      "sdsd\n",
      "lalasd\n",
      "6\n"
     ]
    }
   ],
   "source": [
    "for el in a:\n",
    "    print(el)"
   ]
  },
  {
   "cell_type": "code",
   "execution_count": 19,
   "id": "2a2c9738",
   "metadata": {},
   "outputs": [
    {
     "name": "stdout",
     "output_type": "stream",
     "text": [
      "{1, 2, 'hello', 5}\n"
     ]
    }
   ],
   "source": [
    "my_list = [1,1,2,1,1,5,\"hello\",\"hello\"] #Удаление повторяющихся слов\n",
    "my_set = set()\n",
    "for el in my_list:\n",
    "    my_set.add(el)\n",
    "print(my_set)"
   ]
  },
  {
   "cell_type": "code",
   "execution_count": 20,
   "id": "b7b4e5d5",
   "metadata": {},
   "outputs": [
    {
     "name": "stdout",
     "output_type": "stream",
     "text": [
      "{1, 2, 'hello', 5}\n"
     ]
    }
   ],
   "source": [
    "my_set = set(my_list) #То же самое но короче^ \n",
    "print(my_set) #Создаем множество на основе списка (Поиск мнгновенный на основе множества в отличии от списка)"
   ]
  },
  {
   "cell_type": "code",
   "execution_count": 21,
   "id": "90b16615",
   "metadata": {},
   "outputs": [
    {
     "name": "stdout",
     "output_type": "stream",
     "text": [
      "[1, 2, 'hello', 5]\n"
     ]
    }
   ],
   "source": [
    "my_list = list(my_set) #Создаем список на основе множества\n",
    "print(my_list)"
   ]
  },
  {
   "cell_type": "code",
   "execution_count": 22,
   "id": "acb139e0",
   "metadata": {},
   "outputs": [
    {
     "name": "stdout",
     "output_type": "stream",
     "text": [
      "False\n"
     ]
    }
   ],
   "source": [
    "a = {\"hello\",\"hey\",1,2,4}\n",
    "print(5 in a)"
   ]
  },
  {
   "cell_type": "code",
   "execution_count": 23,
   "id": "313410e9",
   "metadata": {},
   "outputs": [
    {
     "name": "stdout",
     "output_type": "stream",
     "text": [
      "False\n"
     ]
    }
   ],
   "source": [
    "print(1 not in a) #Действительно что 1 не находится в А"
   ]
  },
  {
   "cell_type": "code",
   "execution_count": 24,
   "id": "6712d018",
   "metadata": {},
   "outputs": [],
   "source": [
    "my_list = [1,2,3]\n",
    "my_set = {1,2,3}\n"
   ]
  },
  {
   "cell_type": "code",
   "execution_count": 26,
   "id": "c7b6cffc",
   "metadata": {},
   "outputs": [
    {
     "ename": "TypeError",
     "evalue": "'set' object is not subscriptable",
     "output_type": "error",
     "traceback": [
      "\u001b[1;31m---------------------------------------------------------------------------\u001b[0m",
      "\u001b[1;31mTypeError\u001b[0m                                 Traceback (most recent call last)",
      "Input \u001b[1;32mIn [26]\u001b[0m, in \u001b[0;36m<cell line: 1>\u001b[1;34m()\u001b[0m\n\u001b[1;32m----> 1\u001b[0m \u001b[43mmy_set\u001b[49m\u001b[43m[\u001b[49m\u001b[38;5;241;43m1\u001b[39;49m\u001b[43m]\u001b[49m\n",
      "\u001b[1;31mTypeError\u001b[0m: 'set' object is not subscriptable"
     ]
    }
   ],
   "source": [
    "my_set[1] # Не индексируется в отличии от списка"
   ]
  },
  {
   "cell_type": "code",
   "execution_count": 30,
   "id": "38e681b9",
   "metadata": {},
   "outputs": [
    {
     "name": "stdout",
     "output_type": "stream",
     "text": [
      "16\n"
     ]
    }
   ],
   "source": [
    "my_list = [1,1,2,2,2,3,2,10]\n",
    "my_set = set(my_list)\n",
    "summ = 0\n",
    "for el in my_set:\n",
    "    summ += el\n",
    "print(summ)"
   ]
  },
  {
   "cell_type": "code",
   "execution_count": 34,
   "id": "01e5684b",
   "metadata": {},
   "outputs": [
    {
     "name": "stdout",
     "output_type": "stream",
     "text": [
      "16\n"
     ]
    }
   ],
   "source": [
    "print(sum(set(my_list))) #sum Суммирует все числа в списке"
   ]
  },
  {
   "cell_type": "code",
   "execution_count": 37,
   "id": "4ba266da",
   "metadata": {},
   "outputs": [],
   "source": [
    "def my_func(my_set, my_list):\n",
    "    for el in my_list:\n",
    "        if el in my_set:\n",
    "            continue\n",
    "        else:\n",
    "            return False\n",
    "    return True"
   ]
  },
  {
   "cell_type": "code",
   "execution_count": 41,
   "id": "c3cdae19",
   "metadata": {},
   "outputs": [
    {
     "data": {
      "text/plain": [
       "False"
      ]
     },
     "execution_count": 41,
     "metadata": {},
     "output_type": "execute_result"
    }
   ],
   "source": [
    "my_func({1,2,3,4,4},[1,2,4,7,8])"
   ]
  },
  {
   "cell_type": "code",
   "execution_count": null,
   "id": "d0a09091",
   "metadata": {},
   "outputs": [],
   "source": []
  }
 ],
 "metadata": {
  "kernelspec": {
   "display_name": "Python 3 (ipykernel)",
   "language": "python",
   "name": "python3"
  },
  "language_info": {
   "codemirror_mode": {
    "name": "ipython",
    "version": 3
   },
   "file_extension": ".py",
   "mimetype": "text/x-python",
   "name": "python",
   "nbconvert_exporter": "python",
   "pygments_lexer": "ipython3",
   "version": "3.9.12"
  }
 },
 "nbformat": 4,
 "nbformat_minor": 5
}
