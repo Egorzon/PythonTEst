{
 "cells": [
  {
   "cell_type": "code",
   "execution_count": 1,
   "id": "8dc55a71",
   "metadata": {},
   "outputs": [],
   "source": [
    "def function1(): #Деф Определять или Обьявить\n",
    "    print('Привет')\n",
    "    print('Здравствуй')"
   ]
  },
  {
   "cell_type": "code",
   "execution_count": 2,
   "id": "c569af3e",
   "metadata": {},
   "outputs": [
    {
     "name": "stdout",
     "output_type": "stream",
     "text": [
      "Привет\n",
      "Здравствуй\n"
     ]
    }
   ],
   "source": [
    "function1()"
   ]
  },
  {
   "cell_type": "code",
   "execution_count": 4,
   "id": "fb8931d3",
   "metadata": {},
   "outputs": [],
   "source": [
    "def function2(x):\n",
    "    return 2*x"
   ]
  },
  {
   "cell_type": "code",
   "execution_count": 5,
   "id": "64f88905",
   "metadata": {},
   "outputs": [],
   "source": [
    "a = function2(5)"
   ]
  },
  {
   "cell_type": "code",
   "execution_count": 6,
   "id": "8b745d0a",
   "metadata": {},
   "outputs": [
    {
     "name": "stdout",
     "output_type": "stream",
     "text": [
      "10\n"
     ]
    }
   ],
   "source": [
    "print(a)"
   ]
  },
  {
   "cell_type": "code",
   "execution_count": 7,
   "id": "7b4230f5",
   "metadata": {},
   "outputs": [
    {
     "name": "stdout",
     "output_type": "stream",
     "text": [
      "18\n"
     ]
    }
   ],
   "source": [
    "print(function2(9))"
   ]
  },
  {
   "cell_type": "code",
   "execution_count": 8,
   "id": "13de7fed",
   "metadata": {},
   "outputs": [],
   "source": [
    "def function3(x,y):\n",
    "    return x+y"
   ]
  },
  {
   "cell_type": "code",
   "execution_count": 9,
   "id": "b5693f62",
   "metadata": {},
   "outputs": [],
   "source": [
    "b = function3(5,5)"
   ]
  },
  {
   "cell_type": "code",
   "execution_count": 10,
   "id": "cf339e0e",
   "metadata": {},
   "outputs": [
    {
     "name": "stdout",
     "output_type": "stream",
     "text": [
      "10\n"
     ]
    }
   ],
   "source": [
    "print(b)"
   ]
  },
  {
   "cell_type": "code",
   "execution_count": 14,
   "id": "cc3a7d0b",
   "metadata": {},
   "outputs": [],
   "source": [
    "def function4(some_argurment):\n",
    "    print(some_argurment)\n",
    "    print('asdffasfsda')"
   ]
  },
  {
   "cell_type": "code",
   "execution_count": 15,
   "id": "652fe9cc",
   "metadata": {},
   "outputs": [
    {
     "name": "stdout",
     "output_type": "stream",
     "text": [
      "5\n",
      "asdffasfsda\n"
     ]
    }
   ],
   "source": [
    "function4(5)"
   ]
  },
  {
   "cell_type": "code",
   "execution_count": 16,
   "id": "ea255018",
   "metadata": {},
   "outputs": [
    {
     "data": {
      "text/plain": [
       "10"
      ]
     },
     "execution_count": 16,
     "metadata": {},
     "output_type": "execute_result"
    }
   ],
   "source": [
    "b"
   ]
  },
  {
   "cell_type": "code",
   "execution_count": 17,
   "id": "0079b1e5",
   "metadata": {},
   "outputs": [],
   "source": [
    "def function5():\n",
    "    return 4"
   ]
  },
  {
   "cell_type": "code",
   "execution_count": 18,
   "id": "4fde8997",
   "metadata": {},
   "outputs": [],
   "source": [
    "c = function5()"
   ]
  },
  {
   "cell_type": "code",
   "execution_count": 19,
   "id": "b78b2dc4",
   "metadata": {},
   "outputs": [
    {
     "name": "stdout",
     "output_type": "stream",
     "text": [
      "4\n"
     ]
    }
   ],
   "source": [
    "print(c)"
   ]
  },
  {
   "cell_type": "code",
   "execution_count": 21,
   "id": "d1b10a2b",
   "metadata": {},
   "outputs": [
    {
     "name": "stdout",
     "output_type": "stream",
     "text": [
      "123\n",
      "asdffasfsda\n",
      "None\n"
     ]
    }
   ],
   "source": [
    "a = function4(123)\n",
    "print(a)"
   ]
  },
  {
   "cell_type": "code",
   "execution_count": 26,
   "id": "729b75ea",
   "metadata": {},
   "outputs": [],
   "source": [
    "def function6(c):\n",
    "    print(c)\n",
    "    print('asas')\n",
    "    return 3*c"
   ]
  },
  {
   "cell_type": "code",
   "execution_count": 27,
   "id": "44fb4cd3",
   "metadata": {},
   "outputs": [
    {
     "name": "stdout",
     "output_type": "stream",
     "text": [
      "10\n",
      "asas\n",
      "30\n"
     ]
    }
   ],
   "source": [
    "a= function6(10)\n",
    "print(a)"
   ]
  },
  {
   "cell_type": "code",
   "execution_count": 36,
   "id": "0ec8f401",
   "metadata": {},
   "outputs": [],
   "source": [
    "name1='Egor'\n",
    "height1=1.77\n",
    "weight1=55\n",
    "    \n",
    "name2='Sasha'\n",
    "height2=1.65\n",
    "weight2=55\n",
    "    \n",
    "name3='Nikita'\n",
    "height3=1.2\n",
    "weight3=35"
   ]
  },
  {
   "cell_type": "code",
   "execution_count": 37,
   "id": "f921bb73",
   "metadata": {},
   "outputs": [],
   "source": [
    "def bmi_calculator(name,height,weight):\n",
    "    bmi = weight/(height**2)\n",
    "    print('Индекс массы тела:'+ str(bmi))\n",
    "    if bmi < 25:\n",
    "        return name + ' не имеет лишнего веса'\n",
    "    else:\n",
    "        return name + ' имеет лишний вес'"
   ]
  },
  {
   "cell_type": "code",
   "execution_count": 38,
   "id": "b054d358",
   "metadata": {},
   "outputs": [
    {
     "name": "stdout",
     "output_type": "stream",
     "text": [
      "Индекс массы тела:17.555619394171533\n",
      "Индекс массы тела:20.202020202020204\n",
      "Индекс массы тела:24.305555555555557\n"
     ]
    }
   ],
   "source": [
    "bmi1 = bmi_calculator(name1,height1,weight1)\n",
    "bmi2 = bmi_calculator(name2,height2,weight2)\n",
    "bmi3 = bmi_calculator(name3,height3,weight3)"
   ]
  },
  {
   "cell_type": "code",
   "execution_count": 39,
   "id": "71c97277",
   "metadata": {},
   "outputs": [
    {
     "name": "stdout",
     "output_type": "stream",
     "text": [
      "Egor не имеет лишнего веса\n"
     ]
    }
   ],
   "source": [
    "print(bmi1)"
   ]
  },
  {
   "cell_type": "code",
   "execution_count": 41,
   "id": "a80aff12",
   "metadata": {},
   "outputs": [
    {
     "name": "stdout",
     "output_type": "stream",
     "text": [
      "Nikita не имеет лишнего веса\n"
     ]
    }
   ],
   "source": [
    "print(bmi3)"
   ]
  },
  {
   "cell_type": "code",
   "execution_count": 47,
   "id": "6c60a63c",
   "metadata": {},
   "outputs": [],
   "source": [
    "def convert(miles):\n",
    "    km = miles*1.609\n",
    "    return str(km)"
   ]
  },
  {
   "cell_type": "code",
   "execution_count": 48,
   "id": "0109cfec",
   "metadata": {},
   "outputs": [
    {
     "data": {
      "text/plain": [
       "'3.218'"
      ]
     },
     "execution_count": 48,
     "metadata": {},
     "output_type": "execute_result"
    }
   ],
   "source": [
    "convert(2)"
   ]
  },
  {
   "cell_type": "code",
   "execution_count": 50,
   "id": "8c2eabea",
   "metadata": {},
   "outputs": [],
   "source": [
    "def area(a,b):\n",
    "    S = a*b\n",
    "    return str(S)"
   ]
  },
  {
   "cell_type": "code",
   "execution_count": 51,
   "id": "b4241b39",
   "metadata": {},
   "outputs": [
    {
     "data": {
      "text/plain": [
       "'6'"
      ]
     },
     "execution_count": 51,
     "metadata": {},
     "output_type": "execute_result"
    }
   ],
   "source": [
    "area(2,3)"
   ]
  },
  {
   "cell_type": "code",
   "execution_count": 52,
   "id": "1e3e9e1b",
   "metadata": {},
   "outputs": [],
   "source": [
    "#is_even(a)"
   ]
  },
  {
   "cell_type": "code",
   "execution_count": 53,
   "id": "a72739d0",
   "metadata": {},
   "outputs": [
    {
     "data": {
      "text/plain": [
       "1"
      ]
     },
     "execution_count": 53,
     "metadata": {},
     "output_type": "execute_result"
    }
   ],
   "source": [
    "3 % 2"
   ]
  },
  {
   "cell_type": "code",
   "execution_count": 77,
   "id": "dbdee9ac",
   "metadata": {},
   "outputs": [],
   "source": [
    "def is_even1(a):\n",
    "    even = a % 2\n",
    "    print (\"Остаток равен: \" +str(even))\n",
    "    if even == 0:\n",
    "        print ('Четное')\n",
    "    elif even == 1:\n",
    "        print ('Нечетное')"
   ]
  },
  {
   "cell_type": "code",
   "execution_count": 79,
   "id": "cfacd256",
   "metadata": {},
   "outputs": [
    {
     "name": "stdout",
     "output_type": "stream",
     "text": [
      "Остаток равен: 1\n",
      "Нечетное\n"
     ]
    }
   ],
   "source": [
    "is_even1(5)"
   ]
  },
  {
   "cell_type": "code",
   "execution_count": 66,
   "id": "ab53e11a",
   "metadata": {},
   "outputs": [],
   "source": [
    "def is_even(a):\n",
    "    even = a%2\n",
    "    print(\"Остаток равен: \" +str(even))\n",
    "    if even == 0:\n",
    "        print(\"Число является четным\")\n",
    "    elif even == 1:\n",
    "        print(\"Число является нечётным\")\n",
    "    else:\n",
    "        print(\"Ошибка, введите другое число\")"
   ]
  },
  {
   "cell_type": "code",
   "execution_count": 78,
   "id": "9c157308",
   "metadata": {},
   "outputs": [
    {
     "name": "stdout",
     "output_type": "stream",
     "text": [
      "Введите число:2\n",
      "Число 2 чётное.\n"
     ]
    }
   ],
   "source": [
    "a=int(input(\"Введите число:\"))\n",
    "def N():\n",
    "    return a%2\n",
    "if N()==0:\n",
    "    print(\"Число \"+str(a)+\" чётное.\")\n",
    "else:\n",
    "    print(\"Число \"+str(a)+\" нечётное.\")"
   ]
  },
  {
   "cell_type": "code",
   "execution_count": 80,
   "id": "cc4e7f7f",
   "metadata": {},
   "outputs": [
    {
     "name": "stdout",
     "output_type": "stream",
     "text": [
      "1\n",
      "число нечетное\n"
     ]
    }
   ],
   "source": [
    "def func(x, y):\n",
    "\treturn x % y\n",
    "x = int(input())\n",
    "y = 2\n",
    "if func(x, y) == 1:\n",
    "\tprint(\"число нечетное\")\n",
    "else:\n",
    "\tprint(\"число четное\")"
   ]
  },
  {
   "cell_type": "code",
   "execution_count": null,
   "id": "30bfb228",
   "metadata": {},
   "outputs": [],
   "source": []
  }
 ],
 "metadata": {
  "kernelspec": {
   "display_name": "Python 3 (ipykernel)",
   "language": "python",
   "name": "python3"
  },
  "language_info": {
   "codemirror_mode": {
    "name": "ipython",
    "version": 3
   },
   "file_extension": ".py",
   "mimetype": "text/x-python",
   "name": "python",
   "nbconvert_exporter": "python",
   "pygments_lexer": "ipython3",
   "version": "3.9.12"
  }
 },
 "nbformat": 4,
 "nbformat_minor": 5
}
