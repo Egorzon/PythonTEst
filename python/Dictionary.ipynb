{
 "cells": [
  {
   "cell_type": "code",
   "execution_count": 2,
   "id": "22117e1f",
   "metadata": {},
   "outputs": [
    {
     "name": "stdout",
     "output_type": "stream",
     "text": [
      "{'alex': 25, 'petr': 37}\n"
     ]
    }
   ],
   "source": [
    "d = {\"alex\":25,\"petr\":37} #d = dict{}\n",
    "print(d)"
   ]
  },
  {
   "cell_type": "code",
   "execution_count": 4,
   "id": "63125535",
   "metadata": {},
   "outputs": [
    {
     "data": {
      "text/plain": [
       "2"
      ]
     },
     "execution_count": 4,
     "metadata": {},
     "output_type": "execute_result"
    }
   ],
   "source": [
    "len(d)"
   ]
  },
  {
   "cell_type": "code",
   "execution_count": 5,
   "id": "b545fcde",
   "metadata": {},
   "outputs": [],
   "source": [
    "d[\"kate\"] = 18"
   ]
  },
  {
   "cell_type": "code",
   "execution_count": 8,
   "id": "133650d0",
   "metadata": {},
   "outputs": [
    {
     "name": "stdout",
     "output_type": "stream",
     "text": [
      "18\n"
     ]
    }
   ],
   "source": [
    "print(d[\"kate\"])"
   ]
  },
  {
   "cell_type": "code",
   "execution_count": 9,
   "id": "6618387d",
   "metadata": {},
   "outputs": [],
   "source": [
    "d[10] = 20"
   ]
  },
  {
   "cell_type": "code",
   "execution_count": 10,
   "id": "dfead128",
   "metadata": {
    "scrolled": true
   },
   "outputs": [
    {
     "name": "stdout",
     "output_type": "stream",
     "text": [
      "{'alex': 25, 'petr': 37, 'kate': 18, 10: 20}\n"
     ]
    }
   ],
   "source": [
    "print(d)"
   ]
  },
  {
   "cell_type": "code",
   "execution_count": 12,
   "id": "9f4dc6f1",
   "metadata": {},
   "outputs": [
    {
     "name": "stdout",
     "output_type": "stream",
     "text": [
      "alex\n",
      "25\n",
      "petr\n",
      "37\n",
      "kate\n",
      "18\n",
      "10\n",
      "20\n"
     ]
    }
   ],
   "source": [
    "for K,V in d.items():\n",
    "    print(K)\n",
    "    print(V)"
   ]
  },
  {
   "cell_type": "code",
   "execution_count": 14,
   "id": "236b17be",
   "metadata": {},
   "outputs": [
    {
     "name": "stdout",
     "output_type": "stream",
     "text": [
      "Ключ: alex ,значение:25\n",
      "Ключ: petr ,значение:37\n",
      "Ключ: kate ,значение:18\n",
      "Ключ: 10 ,значение:20\n"
     ]
    }
   ],
   "source": [
    "for k,v in d.items():\n",
    "    print(\"Ключ: \" + str(k) + \" ,значение:\" + str(v))"
   ]
  },
  {
   "cell_type": "code",
   "execution_count": 32,
   "id": "c853a5c8",
   "metadata": {},
   "outputs": [
    {
     "name": "stdout",
     "output_type": "stream",
     "text": [
      "{'first': [1, 2, 3, 1, 2, 3], 'second': [10, 20, 10, 20], 'third': [15, 56, 70, 15, 56, 70], 'fourth': [-50, -50]}\n"
     ]
    }
   ],
   "source": [
    "# Задача 1\n",
    "a=[\"first\",1,2,3,\"second\",10,20,\"third\",15,56,70,\"fourth\",-50] #type(\"\")\n",
    "dict_1={}\n",
    "st= None\n",
    "if type(1):\n",
    "    for k in a:\n",
    "        if(type(k) == str):\n",
    "            dict_1[k]=[]\n",
    "            st = k\n",
    "        else:\n",
    "            b[st].append(k)\n",
    "            \n",
    "            pass #Ничего не делать\n",
    "print(b)"
   ]
  },
  {
   "cell_type": "code",
   "execution_count": 27,
   "id": "ea7e8b56",
   "metadata": {},
   "outputs": [
    {
     "name": "stdout",
     "output_type": "stream",
     "text": [
      "5\n",
      "{'Привет': 1, 'привет': 1, 'арбуз': 2, 'слон': 1, 'пока': 1}\n"
     ]
    }
   ],
   "source": [
    "#Забача 2\n",
    "mytext = \"Привет привет арбуз арбуз слон пока \"\n",
    "list=mytext.split() #Сплит разделяет текст по пробелам\n",
    "dic={}\n",
    "for i in list:\n",
    "    num=0\n",
    "    if i in dic:\n",
    "        num=dic[i]+1\n",
    "        dic[i]=num\n",
    "    else:\n",
    "        dic[i]=1\n",
    "\n",
    "print (len(dic))\n",
    "\n",
    "print (dic)"
   ]
  },
  {
   "cell_type": "code",
   "execution_count": 29,
   "id": "a1a9a4cd",
   "metadata": {},
   "outputs": [
    {
     "name": "stdout",
     "output_type": "stream",
     "text": [
      "YEs\n"
     ]
    }
   ],
   "source": [
    "if \"привет\" in mytext:\n",
    "    print(\"YEs\")\n",
    "else:\n",
    "    print(\"No\")"
   ]
  },
  {
   "cell_type": "code",
   "execution_count": 30,
   "id": "9c23c7f1",
   "metadata": {},
   "outputs": [
    {
     "name": "stdout",
     "output_type": "stream",
     "text": [
      "{'Привет': 1, 'привет': 1, 'арбуз': 2, 'слон': 1, 'пока': 1}\n"
     ]
    }
   ],
   "source": [
    "my_dict2 = {}\n",
    "for word in mytext.split():\n",
    "    if word in my_dict2:\n",
    "        my_dict2[word] = my_dict2[word] + 1\n",
    "    else:\n",
    "        my_dict2[word] = 1\n",
    "print(my_dict2)"
   ]
  },
  {
   "cell_type": "code",
   "execution_count": 31,
   "id": "9ef8ccf6",
   "metadata": {},
   "outputs": [
    {
     "name": "stdout",
     "output_type": "stream",
     "text": [
      "{'Привет': 1, 'привет': 1, 'арбуз': 2, 'слон': 1, 'пока': 1}\n"
     ]
    }
   ],
   "source": [
    "my_dict2 = {}\n",
    "for word in mytext.split():\n",
    "    my_dict2[word] =my_dict2.get(word,0) + 1\n",
    "print(my_dict2)"
   ]
  },
  {
   "cell_type": "code",
   "execution_count": null,
   "id": "5c53b726",
   "metadata": {},
   "outputs": [],
   "source": []
  }
 ],
 "metadata": {
  "kernelspec": {
   "display_name": "Python 3 (ipykernel)",
   "language": "python",
   "name": "python3"
  },
  "language_info": {
   "codemirror_mode": {
    "name": "ipython",
    "version": 3
   },
   "file_extension": ".py",
   "mimetype": "text/x-python",
   "name": "python",
   "nbconvert_exporter": "python",
   "pygments_lexer": "ipython3",
   "version": "3.9.12"
  }
 },
 "nbformat": 4,
 "nbformat_minor": 5
}
