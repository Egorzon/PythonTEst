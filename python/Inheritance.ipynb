{
 "cells": [
  {
   "cell_type": "code",
   "execution_count": 1,
   "id": "e7421374",
   "metadata": {},
   "outputs": [],
   "source": [
    "class Person:\n",
    "    def __init__(self,name,age):\n",
    "        self.name = name\n",
    "        self.age = age\n",
    "        print(\"Person created\")\n",
    "    def say_hello(self):\n",
    "        print(f\" {self.name} says hello!\")"
   ]
  },
  {
   "cell_type": "code",
   "execution_count": 3,
   "id": "ab9d14ce",
   "metadata": {},
   "outputs": [
    {
     "name": "stdout",
     "output_type": "stream",
     "text": [
      "Person created\n",
      " Tom says hello!\n"
     ]
    }
   ],
   "source": [
    "p1 = Person(\"Tom\",15)\n",
    "p1.say_hello()"
   ]
  },
  {
   "cell_type": "code",
   "execution_count": 35,
   "id": "014e5baa",
   "metadata": {},
   "outputs": [],
   "source": [
    "class Student(Person):\n",
    "    def __init__(self,name,age,average_grade): #\n",
    "        #Person.__init__(self,name,age) тоже самое что ниже .Берет конструктор из родительского кода\n",
    "        super().__init__(name,age)\n",
    "        self.average_grade = average_grade\n",
    "        print(\"Student created!\")\n",
    "    def study(self):\n",
    "        print(f\"{self.name} studies\")\n",
    "    def say_hello(self):\n",
    "        super().say_hello() #Сначало берет из родительского класса а потом пририсывает что ниже\n",
    "        print(f\"Student with name: {self.name} says hello!\") #Перезаписывает преведущий метод"
   ]
  },
  {
   "cell_type": "code",
   "execution_count": 36,
   "id": "ca67da53",
   "metadata": {},
   "outputs": [],
   "source": [
    "class Teacher(Person):\n",
    "    def teach(self):\n",
    "        print(f\"{self.name} teaches\")"
   ]
  },
  {
   "cell_type": "code",
   "execution_count": 37,
   "id": "5a9e1b76",
   "metadata": {},
   "outputs": [
    {
     "name": "stdout",
     "output_type": "stream",
     "text": [
      "Person created\n",
      "Student created!\n",
      "Person created\n"
     ]
    }
   ],
   "source": [
    "s1 = Student(\"Egor\",20,5)\n",
    "t1 = Teacher(\"Alishev\",25)"
   ]
  },
  {
   "cell_type": "code",
   "execution_count": 38,
   "id": "31df9258",
   "metadata": {},
   "outputs": [
    {
     "name": "stdout",
     "output_type": "stream",
     "text": [
      " Egor says hello!\n",
      "Student with name: Egor says hello!\n",
      " Alishev says hello!\n"
     ]
    }
   ],
   "source": [
    "s1.say_hello()\n",
    "t1.say_hello()"
   ]
  },
  {
   "cell_type": "code",
   "execution_count": 39,
   "id": "85e198a7",
   "metadata": {},
   "outputs": [
    {
     "name": "stdout",
     "output_type": "stream",
     "text": [
      "Egor studies\n",
      "Alishev teaches\n"
     ]
    }
   ],
   "source": [
    "s1.study()\n",
    "t1.teach()"
   ]
  },
  {
   "cell_type": "code",
   "execution_count": 43,
   "id": "3abf48d0",
   "metadata": {},
   "outputs": [],
   "source": [
    "def introduce(person):\n",
    "    print(\"Now,a person will say hello\")\n",
    "    person.say_hello()"
   ]
  },
  {
   "cell_type": "code",
   "execution_count": 44,
   "id": "3e63803f",
   "metadata": {},
   "outputs": [
    {
     "name": "stdout",
     "output_type": "stream",
     "text": [
      "Person created\n",
      "Student created!\n",
      "Person created\n",
      "Person created\n",
      "Student created!\n"
     ]
    }
   ],
   "source": [
    "people_arr = [Student(\"Egor\",20,4),Teacher(\"Alishev\",25),Student(\"Sasha\",16,4.2)]"
   ]
  },
  {
   "cell_type": "code",
   "execution_count": 45,
   "id": "81e81be9",
   "metadata": {},
   "outputs": [
    {
     "name": "stdout",
     "output_type": "stream",
     "text": [
      "Now,a person will say hello\n",
      " Egor says hello!\n",
      "Student with name: Egor says hello!\n",
      "Now,a person will say hello\n",
      " Alishev says hello!\n",
      "Now,a person will say hello\n",
      " Sasha says hello!\n",
      "Student with name: Sasha says hello!\n"
     ]
    }
   ],
   "source": [
    "for person in people_arr:\n",
    "    introduce(person)"
   ]
  },
  {
   "cell_type": "code",
   "execution_count": 106,
   "id": "705f9b7a",
   "metadata": {},
   "outputs": [],
   "source": [
    "class Animal:\n",
    "    def __init__(self,name,eat):\n",
    "        self.name = name\n",
    "        self.eat = eat\n",
    "        print(\"Animal created\")\n",
    "    def eating(self):\n",
    "        print(f\" {self.name} is eating {self.eat}!\")"
   ]
  },
  {
   "cell_type": "code",
   "execution_count": 113,
   "id": "a0ac8711",
   "metadata": {},
   "outputs": [],
   "source": [
    "class Dog(Animal):\n",
    "    def __init__(self,name,eat,breed):\n",
    "        super().__init__(name,eat)\n",
    "        self.breed = breed\n",
    "    def bark(self):\n",
    "        print(f\"Dog {self.name} is barking!\")\n",
    "class Cat(Animal):\n",
    "    def Meow(self):\n",
    "        print(f\"{self.name} says Meow\")\n",
    "class Frog(Animal):\n",
    "    def eating(self):\n",
    "        print(f\" Frog with name {self.name} is eating {self.eat}\")"
   ]
  },
  {
   "cell_type": "code",
   "execution_count": 114,
   "id": "88e86103",
   "metadata": {},
   "outputs": [
    {
     "name": "stdout",
     "output_type": "stream",
     "text": [
      "Animal created\n",
      "Animal created\n",
      "Animal created\n"
     ]
    }
   ],
   "source": [
    "a1 = Dog(\"Bobyck\",\"meat\",\"pug\")\n",
    "c1 = Cat(\"Nissan\",\"whiskas\")\n",
    "b1 = Frog(\"Liagyha\",\"flies\")"
   ]
  },
  {
   "cell_type": "code",
   "execution_count": 117,
   "id": "340d56f3",
   "metadata": {},
   "outputs": [
    {
     "name": "stdout",
     "output_type": "stream",
     "text": [
      "Dog Bobyck is barking!\n",
      " Bobyck is eating meat!\n"
     ]
    },
    {
     "data": {
      "text/plain": [
       "'pug'"
      ]
     },
     "execution_count": 117,
     "metadata": {},
     "output_type": "execute_result"
    }
   ],
   "source": [
    "a1.bark()\n",
    "a1.eating()\n",
    "a1.breed"
   ]
  },
  {
   "cell_type": "code",
   "execution_count": 116,
   "id": "37c03550",
   "metadata": {},
   "outputs": [
    {
     "name": "stdout",
     "output_type": "stream",
     "text": [
      " Frog with name Liagyha is eating flies\n"
     ]
    }
   ],
   "source": [
    "b1.eating()"
   ]
  },
  {
   "cell_type": "code",
   "execution_count": 120,
   "id": "f0033e38",
   "metadata": {},
   "outputs": [
    {
     "name": "stdout",
     "output_type": "stream",
     "text": [
      "Nissan says Meow\n"
     ]
    }
   ],
   "source": [
    "c1.Meow()"
   ]
  },
  {
   "cell_type": "code",
   "execution_count": null,
   "id": "b4e251c6",
   "metadata": {},
   "outputs": [],
   "source": []
  }
 ],
 "metadata": {
  "kernelspec": {
   "display_name": "Python 3 (ipykernel)",
   "language": "python",
   "name": "python3"
  },
  "language_info": {
   "codemirror_mode": {
    "name": "ipython",
    "version": 3
   },
   "file_extension": ".py",
   "mimetype": "text/x-python",
   "name": "python",
   "nbconvert_exporter": "python",
   "pygments_lexer": "ipython3",
   "version": "3.9.12"
  }
 },
 "nbformat": 4,
 "nbformat_minor": 5
}
