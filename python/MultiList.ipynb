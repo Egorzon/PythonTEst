{
 "cells": [
  {
   "cell_type": "code",
   "execution_count": 2,
   "id": "30c52aed",
   "metadata": {},
   "outputs": [],
   "source": [
    "arr_2d = [[1,2,3],\n",
    "          [4,5,6],\n",
    "          [7,8,9]] #Три списка ,в списках можно иметь разное кол-во значений"
   ]
  },
  {
   "cell_type": "code",
   "execution_count": 3,
   "id": "25cf7702",
   "metadata": {},
   "outputs": [
    {
     "name": "stdout",
     "output_type": "stream",
     "text": [
      "[[1, 2, 3], [4, 5, 6], [7, 8, 9]]\n"
     ]
    }
   ],
   "source": [
    "print(arr_2d)"
   ]
  },
  {
   "cell_type": "code",
   "execution_count": 4,
   "id": "d682091f",
   "metadata": {},
   "outputs": [
    {
     "data": {
      "text/plain": [
       "9"
      ]
     },
     "execution_count": 4,
     "metadata": {},
     "output_type": "execute_result"
    }
   ],
   "source": [
    "arr_2d[2][2]"
   ]
  },
  {
   "cell_type": "code",
   "execution_count": 5,
   "id": "26758775",
   "metadata": {},
   "outputs": [],
   "source": [
    "def print_matrix(arr_2d):\n",
    "    for arr in arr_2d:\n",
    "        print(arr) #\\n перенос на следующую строку"
   ]
  },
  {
   "cell_type": "code",
   "execution_count": 39,
   "id": "cf32d5a5",
   "metadata": {},
   "outputs": [],
   "source": [
    "def print_matrix(arr_2d):\n",
    "    for arr in arr_2d:\n",
    "        for el in arr:\n",
    "            print(el, end =' ')\n",
    "        print()"
   ]
  },
  {
   "cell_type": "code",
   "execution_count": 41,
   "id": "ebd2f126",
   "metadata": {},
   "outputs": [
    {
     "name": "stdout",
     "output_type": "stream",
     "text": [
      "0 2 3 \n",
      "4 5 6 \n",
      "7 8 9 \n"
     ]
    }
   ],
   "source": [
    "print_matrix(arr_2d)"
   ]
  },
  {
   "cell_type": "code",
   "execution_count": 40,
   "id": "a473b346",
   "metadata": {},
   "outputs": [],
   "source": [
    "def print_matrix(arr_2d):\n",
    "    for i in range(len(arr_2d)):\n",
    "        for j in range(len(arr_2d[i])):\n",
    "            print(arr_2d[i][j], end = ' ')\n",
    "        print()"
   ]
  },
  {
   "cell_type": "code",
   "execution_count": 29,
   "id": "e7c26aea",
   "metadata": {},
   "outputs": [],
   "source": [
    "arr_2d[0][0] = 0 # Замена числа"
   ]
  },
  {
   "cell_type": "code",
   "execution_count": 61,
   "id": "a762b7ce",
   "metadata": {},
   "outputs": [],
   "source": [
    "def create_2d_arr (m,n):\n",
    "    list_m = []\n",
    "    list_n = []\n",
    "    for k1 in range (n):\n",
    "        list_n.append (0)        # создаём вложенный список, добавляя нули\n",
    "    for k2 in range (m):\n",
    "        list_m.append (list_n)   # В список м добавляем список н\n",
    "    return (list_m)"
   ]
  },
  {
   "cell_type": "code",
   "execution_count": 68,
   "id": "67f5484e",
   "metadata": {},
   "outputs": [],
   "source": [
    "def create_2d_1(m,n):\n",
    "    arr_2d=[]\n",
    "    for i in range(m):\n",
    "        internal_arr=[]\n",
    "        for j in range(n):\n",
    "            internal_arr.append(0)\n",
    "        arr_2d.append(internal_arr)\n",
    "    return arr_2d"
   ]
  },
  {
   "cell_type": "code",
   "execution_count": 69,
   "id": "e4ada5ba",
   "metadata": {},
   "outputs": [
    {
     "name": "stdout",
     "output_type": "stream",
     "text": [
      "0 0 0 0 0 0 0 0 0 \n",
      "0 0 0 0 0 0 0 0 0 \n",
      "0 0 0 0 0 0 0 0 0 \n"
     ]
    }
   ],
   "source": [
    "print_matrix(create_2d_1(3,9)) # В функцию вставили другую функцию"
   ]
  },
  {
   "cell_type": "code",
   "execution_count": 70,
   "id": "206b00ec",
   "metadata": {},
   "outputs": [],
   "source": [
    "def swap (arr,i,j):\n",
    "    temp = arr[i]\n",
    "    arr[i] = arr[j]\n",
    "    arr[j]= temp\n",
    "    \n",
    "def mirror_2d(arr_2d):\n",
    "    for arr in arr_2d:\n",
    "        for i in range(len(arr) // 2): #Два деления без остатка\n",
    "            swap(arr,i,len(arr) - 1 -i) #лен длинна масива"
   ]
  },
  {
   "cell_type": "code",
   "execution_count": 74,
   "id": "dc206e5d",
   "metadata": {},
   "outputs": [
    {
     "name": "stdout",
     "output_type": "stream",
     "text": [
      "3 2 0 \n",
      "6 5 4 \n",
      "9 8 7 \n"
     ]
    }
   ],
   "source": [
    "mirror_2d(arr_2d)\n",
    "print_matrix(arr_2d)"
   ]
  }
 ],
 "metadata": {
  "kernelspec": {
   "display_name": "Python 3 (ipykernel)",
   "language": "python",
   "name": "python3"
  },
  "language_info": {
   "codemirror_mode": {
    "name": "ipython",
    "version": 3
   },
   "file_extension": ".py",
   "mimetype": "text/x-python",
   "name": "python",
   "nbconvert_exporter": "python",
   "pygments_lexer": "ipython3",
   "version": "3.9.12"
  },
  "vscode": {
   "interpreter": {
    "hash": "1829e88334a97175b757c7047fa8175e3b3a520868e59bf4438f6541d10d14da"
   }
  }
 },
 "nbformat": 4,
 "nbformat_minor": 5
}
