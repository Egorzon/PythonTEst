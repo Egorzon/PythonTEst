{
 "cells": [
  {
   "cell_type": "code",
   "execution_count": null,
   "id": "2f9cb4bc",
   "metadata": {},
   "outputs": [],
   "source": [
    "total = 0\n",
    "for i in range(1,5):\n",
    "    total += i\n",
    "print(total)"
   ]
  },
  {
   "cell_type": "code",
   "execution_count": null,
   "id": "5d38371d",
   "metadata": {},
   "outputs": [],
   "source": [
    "total2 = 0\n",
    "i1 = 0\n",
    "\n",
    "while i1 < 6: #while До тех пор пока условие выполняется \n",
    "    total2+=i1\n",
    "    i1+=1\n",
    "print(total2)"
   ]
  },
  {
   "cell_type": "code",
   "execution_count": 27,
   "id": "46207d8c",
   "metadata": {},
   "outputs": [
    {
     "name": "stdout",
     "output_type": "stream",
     "text": [
      "26\n",
      "0\n"
     ]
    }
   ],
   "source": [
    "my_list = [7 ,5, 4, 4, 3, 2, 1,- 5, -10, -15]\n",
    "total3=0\n",
    "i2=0\n",
    "while my_list[i2]>0:\n",
    "    total3+=my_list[i2]\n",
    "    i2+=1\n",
    "    \n",
    "total4=0\n",
    "for element in my_list:\n",
    "    if element>=0:\n",
    "        break\n",
    "        total4+=element #После бреак не работает этот код\n",
    "print(total3)\n",
    "print(total4)"
   ]
  },
  {
   "cell_type": "code",
   "execution_count": 8,
   "id": "25f8f1a5",
   "metadata": {},
   "outputs": [
    {
     "name": "stdout",
     "output_type": "stream",
     "text": [
      "12\n",
      "2\n"
     ]
    }
   ],
   "source": [
    "total5=0\n",
    "i5=0\n",
    "while total5 < 10 and my_list[i5]>0:\n",
    "    total5 += my_list[i5]\n",
    "    i5 +=1\n",
    "print(total5)\n",
    "print(i5)"
   ]
  },
  {
   "cell_type": "code",
   "execution_count": 21,
   "id": "d105ec01",
   "metadata": {},
   "outputs": [
    {
     "name": "stdout",
     "output_type": "stream",
     "text": [
      "26\n",
      "0\n"
     ]
    }
   ],
   "source": [
    "my_list = [7 ,5, 4, 4, 3, 2, 1]\n",
    "total3=0\n",
    "i2=0\n",
    "while i2<len(my_list) and my_list[i2]>0: #Лен определяет размер листа\n",
    "    total3+=my_list[i2]\n",
    "    i2+=1\n",
    "print(total3)\n",
    "print(total4)"
   ]
  },
  {
   "cell_type": "code",
   "execution_count": null,
   "id": "7bcc7b5e",
   "metadata": {},
   "outputs": [],
   "source": [
    "i6 = 0\n",
    "while True:\n",
    "    if i6== 100:\n",
    "        break\n",
    "        print(i6)\n",
    "        i6+=1"
   ]
  },
  {
   "cell_type": "code",
   "execution_count": 47,
   "id": "ca5adcff",
   "metadata": {},
   "outputs": [
    {
     "name": "stdout",
     "output_type": "stream",
     "text": [
      "-18\n",
      "-33\n",
      "-46\n",
      "-56\n",
      "-61\n",
      "-5\n",
      "-15\n",
      "-28\n",
      "-43\n",
      "-61\n"
     ]
    }
   ],
   "source": [
    "my_list = [7 ,5, 4, 4, 3, 2, 1,-5,-10,-13,-15,-18]\n",
    "i8=11\n",
    "total9=0\n",
    "while my_list[i8]<0:\n",
    "    total9+=my_list[i8]\n",
    "    i8 += -1\n",
    "    print(total9)\n",
    "total10=0\n",
    "for element in my_list:\n",
    "    if element<=0:\n",
    "        total10+=element\n",
    "        print(total10)\n",
    "        "
   ]
  },
  {
   "cell_type": "code",
   "execution_count": 78,
   "id": "0dd2aafd",
   "metadata": {},
   "outputs": [
    {
     "name": "stdout",
     "output_type": "stream",
     "text": [
      "aple\n",
      "banana\n",
      "grape\n",
      "for\n"
     ]
    }
   ],
   "source": [
    "words=[\"aple\", \"banana\", \"grape\", \"for\", \"stop\", \"hello\", \"hey\"]\n",
    "for e in words:\n",
    "    if e == 'stop':\n",
    "        break\n",
    "    else: #else не обязателен\n",
    "        print(e)"
   ]
  },
  {
   "cell_type": "code",
   "execution_count": 79,
   "id": "eed152ca",
   "metadata": {},
   "outputs": [
    {
     "name": "stdout",
     "output_type": "stream",
     "text": [
      "hello\n",
      "hi\n",
      "good\n"
     ]
    }
   ],
   "source": [
    "list2 = [\"hello\", \"hi\", \"good\", \"stop\", \"jump\"]\n",
    "\n",
    "\n",
    "for t in list2:\n",
    "    if t ==\"stop\":\n",
    "        break\n",
    "    print(t)"
   ]
  },
  {
   "cell_type": "code",
   "execution_count": null,
   "id": "f926ebc5",
   "metadata": {},
   "outputs": [],
   "source": []
  }
 ],
 "metadata": {
  "kernelspec": {
   "display_name": "Python 3 (ipykernel)",
   "language": "python",
   "name": "python3"
  },
  "language_info": {
   "codemirror_mode": {
    "name": "ipython",
    "version": 3
   },
   "file_extension": ".py",
   "mimetype": "text/x-python",
   "name": "python",
   "nbconvert_exporter": "python",
   "pygments_lexer": "ipython3",
   "version": "3.9.12"
  }
 },
 "nbformat": 4,
 "nbformat_minor": 5
}
