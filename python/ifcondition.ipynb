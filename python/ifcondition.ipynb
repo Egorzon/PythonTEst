{
 "cells": [
  {
   "cell_type": "code",
   "execution_count": 34,
   "id": "f5387545",
   "metadata": {},
   "outputs": [
    {
     "name": "stdout",
     "output_type": "stream",
     "text": [
      "Вне блока if\n"
     ]
    }
   ],
   "source": [
    "a = 3\n",
    "b = 2\n",
    "if a < b: #Иф если\n",
    "    print('а меньше ,чем b')\n",
    "    print('а точно меньше ,чем b')\n",
    "print('Вне блока if')"
   ]
  },
  {
   "cell_type": "code",
   "execution_count": 7,
   "id": "0c7c4665",
   "metadata": {},
   "outputs": [
    {
     "name": "stdout",
     "output_type": "stream",
     "text": [
      "d больше,чем c\n",
      "else тогда\n",
      "Вне блока if\n"
     ]
    }
   ],
   "source": [
    "c = 6\n",
    "d = 4\n",
    "if c < d:\n",
    "    print('c меньше ,чем d')\n",
    "else: #Тогда\n",
    "    print('d больше,чем c')\n",
    "    print('else тогда')\n",
    "print('Вне блока if')"
   ]
  },
  {
   "cell_type": "code",
   "execution_count": 16,
   "id": "fd88d8b2",
   "metadata": {},
   "outputs": [
    {
     "name": "stdout",
     "output_type": "stream",
     "text": [
      "f < e\n"
     ]
    }
   ],
   "source": [
    "e = 26\n",
    "f = 9\n",
    "if e < f:\n",
    "    print('e < f')\n",
    "elif e == f: # Промежуточный оператор (может быть только в середине кода).\n",
    "    print('e = f')\n",
    "elif e > f + 20:\n",
    "    print('e больше f больше 20')\n",
    "else:\n",
    "    print('f < e')"
   ]
  },
  {
   "cell_type": "code",
   "execution_count": 19,
   "id": "67b1f178",
   "metadata": {},
   "outputs": [
    {
     "name": "stdout",
     "output_type": "stream",
     "text": [
      "g>h\n"
     ]
    }
   ],
   "source": [
    "g = 10\n",
    "h =8\n",
    "if g<h:\n",
    "    print('джи меньше,чем ейч')\n",
    "else:\n",
    "    if g==h:\n",
    "        print('g=h')\n",
    "    else:\n",
    "        print('g>h')"
   ]
  },
  {
   "cell_type": "code",
   "execution_count": 29,
   "id": "edfe0554",
   "metadata": {},
   "outputs": [
    {
     "name": "stdout",
     "output_type": "stream",
     "text": [
      "Индекс массы тела: 17.555619394171533\n",
      "У Egor нет лишнего веса \n"
     ]
    }
   ],
   "source": [
    "name = 'Egor'\n",
    "height = 1.77\n",
    "weight = 55\n",
    "\n",
    "bmi = weight / (height**2)\n",
    "print('Индекс массы тела: '+ str(bmi))\n",
    "\n",
    "if bmi < 25:\n",
    "    print('У ' + name + ' нет лишнего веса ')\n",
    "else:\n",
    "    print('У ' + name + ' есть лишний вес ')"
   ]
  },
  {
   "cell_type": "code",
   "execution_count": 30,
   "id": "1b58a886",
   "metadata": {},
   "outputs": [
    {
     "data": {
      "text/plain": [
       "True"
      ]
     },
     "execution_count": 30,
     "metadata": {},
     "output_type": "execute_result"
    }
   ],
   "source": [
    "6<7"
   ]
  },
  {
   "cell_type": "code",
   "execution_count": 31,
   "id": "e8354fb9",
   "metadata": {},
   "outputs": [
    {
     "name": "stdout",
     "output_type": "stream",
     "text": [
      "True\n"
     ]
    }
   ],
   "source": [
    "my_bool = 6 < 7\n",
    "print(my_bool)"
   ]
  },
  {
   "cell_type": "code",
   "execution_count": 32,
   "id": "22aa1d7b",
   "metadata": {},
   "outputs": [
    {
     "data": {
      "text/plain": [
       "bool"
      ]
     },
     "execution_count": 32,
     "metadata": {},
     "output_type": "execute_result"
    }
   ],
   "source": [
    "type(1<2)"
   ]
  },
  {
   "cell_type": "code",
   "execution_count": 33,
   "id": "037e941d",
   "metadata": {},
   "outputs": [
    {
     "data": {
      "text/plain": [
       "bool"
      ]
     },
     "execution_count": 33,
     "metadata": {},
     "output_type": "execute_result"
    }
   ],
   "source": [
    "type(1<2.3)"
   ]
  },
  {
   "cell_type": "code",
   "execution_count": null,
   "id": "0a8f5403",
   "metadata": {},
   "outputs": [],
   "source": []
  }
 ],
 "metadata": {
  "kernelspec": {
   "display_name": "Python 3 (ipykernel)",
   "language": "python",
   "name": "python3"
  },
  "language_info": {
   "codemirror_mode": {
    "name": "ipython",
    "version": 3
   },
   "file_extension": ".py",
   "mimetype": "text/x-python",
   "name": "python",
   "nbconvert_exporter": "python",
   "pygments_lexer": "ipython3",
   "version": "3.9.12"
  }
 },
 "nbformat": 4,
 "nbformat_minor": 5
}
