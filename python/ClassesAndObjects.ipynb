{
 "cells": [
  {
   "cell_type": "code",
   "execution_count": 91,
   "id": "9c64462e",
   "metadata": {},
   "outputs": [],
   "source": [
    "class Person: #Классы пишутся с большой буквы\n",
    "    people_count = 0\n",
    "    def __init__ (self,name,surname,place_of_birth,year_of_birth):\n",
    "        self.name = name\n",
    "        self.surname = surname\n",
    "        self.place_of_birth = place_of_birth\n",
    "        self.year_of_birth = year_of_birth\n",
    "        Person.people_count +=1\n",
    "        print(\"Данные получены\")\n",
    "    def print_info(self,n): #Метод (функция) для избавление повторения кода\n",
    "        for i in range(n):\n",
    "            print(f\"Name: {self.name}, Surname: {self.surname}, Place of birth: {self.place_of_birth}\")\n",
    "    def get_age(self,current_year):\n",
    "        print(f\" Age: {current_year - self.year_of_birth}\")"
   ]
  },
  {
   "cell_type": "code",
   "execution_count": 92,
   "id": "17b12002",
   "metadata": {},
   "outputs": [
    {
     "name": "stdout",
     "output_type": "stream",
     "text": [
      "Данные получены\n",
      "Данные получены\n",
      "Данные получены\n"
     ]
    }
   ],
   "source": [
    "p1 = Person(\"Elon\",\"Musk\",\"Юар\",1971)\n",
    "p2 = Person(\"Egor\",\"Sergeev\",\"Russia\",2001)\n",
    "p3 = Person(\"Albert\",\"Einstein\",\"Germany\",1879)"
   ]
  },
  {
   "cell_type": "code",
   "execution_count": 93,
   "id": "91ff9886",
   "metadata": {},
   "outputs": [
    {
     "name": "stdout",
     "output_type": "stream",
     "text": [
      "Egor\n"
     ]
    }
   ],
   "source": [
    "print(p2.name)"
   ]
  },
  {
   "cell_type": "code",
   "execution_count": 94,
   "id": "3962f9ec",
   "metadata": {},
   "outputs": [
    {
     "name": "stdout",
     "output_type": "stream",
     "text": [
      "Name: Elon, Surname: Musk, Place of birth: Юар\n"
     ]
    }
   ],
   "source": [
    "print(f\"Name: {p1.name}, Surname: {p1.surname}, Place of birth: {p1.place_of_birth}\")"
   ]
  },
  {
   "cell_type": "code",
   "execution_count": 95,
   "id": "53d1976f",
   "metadata": {},
   "outputs": [
    {
     "name": "stdout",
     "output_type": "stream",
     "text": [
      "Name: Egor, Surname: Sergeev, Place of birth: Russia\n"
     ]
    }
   ],
   "source": [
    "print(f\"Name: {p2.name}, Surname: {p2.surname}, Place of birth: {p2.place_of_birth}\")"
   ]
  },
  {
   "cell_type": "code",
   "execution_count": 96,
   "id": "7a3c16ab",
   "metadata": {},
   "outputs": [
    {
     "name": "stdout",
     "output_type": "stream",
     "text": [
      "Name: Egor, Surname: Sergeev, Place of birth: Russia\n"
     ]
    }
   ],
   "source": [
    "p2.print_info(1)"
   ]
  },
  {
   "cell_type": "code",
   "execution_count": 97,
   "id": "66f08b9e",
   "metadata": {},
   "outputs": [
    {
     "name": "stdout",
     "output_type": "stream",
     "text": [
      "Name: Elon, Surname: Musk, Place of birth: Юар\n",
      "Name: Elon, Surname: Musk, Place of birth: Юар\n",
      "Name: Elon, Surname: Musk, Place of birth: Юар\n"
     ]
    }
   ],
   "source": [
    "Person.print_info(p1,3)"
   ]
  },
  {
   "cell_type": "code",
   "execution_count": 98,
   "id": "1f382407",
   "metadata": {},
   "outputs": [
    {
     "name": "stdout",
     "output_type": "stream",
     "text": [
      " Age: 21\n"
     ]
    }
   ],
   "source": [
    "p2.get_age(2022)"
   ]
  },
  {
   "cell_type": "code",
   "execution_count": 99,
   "id": "74f99591",
   "metadata": {},
   "outputs": [
    {
     "ename": "TypeError",
     "evalue": "__init__() missing 4 required positional arguments: 'name', 'surname', 'place_of_birth', and 'year_of_birth'",
     "output_type": "error",
     "traceback": [
      "\u001b[1;31m---------------------------------------------------------------------------\u001b[0m",
      "\u001b[1;31mTypeError\u001b[0m                                 Traceback (most recent call last)",
      "Input \u001b[1;32mIn [99]\u001b[0m, in \u001b[0;36m<cell line: 1>\u001b[1;34m()\u001b[0m\n\u001b[1;32m----> 1\u001b[0m p3 \u001b[38;5;241m=\u001b[39m \u001b[43mPerson\u001b[49m\u001b[43m(\u001b[49m\u001b[43m)\u001b[49m\n\u001b[0;32m      2\u001b[0m p3\u001b[38;5;241m.\u001b[39mname \u001b[38;5;241m=\u001b[39m \u001b[38;5;124m\"\u001b[39m\u001b[38;5;124mAlbert\u001b[39m\u001b[38;5;124m\"\u001b[39m\n\u001b[0;32m      3\u001b[0m p3\u001b[38;5;241m.\u001b[39msurname \u001b[38;5;241m=\u001b[39m \u001b[38;5;124m\"\u001b[39m\u001b[38;5;124mEinstein\u001b[39m\u001b[38;5;124m\"\u001b[39m \u001b[38;5;66;03m#p3.place_of_birth = \"?\"\u001b[39;00m\n",
      "\u001b[1;31mTypeError\u001b[0m: __init__() missing 4 required positional arguments: 'name', 'surname', 'place_of_birth', and 'year_of_birth'"
     ]
    }
   ],
   "source": [
    "p3 = Person()\n",
    "p3.name = \"Albert\"\n",
    "p3.surname = \"Einstein\" #p3.place_of_birth = \"?\"\n",
    "p3.year_of_birth = 1879"
   ]
  },
  {
   "cell_type": "code",
   "execution_count": 100,
   "id": "a8927619",
   "metadata": {},
   "outputs": [
    {
     "name": "stdout",
     "output_type": "stream",
     "text": [
      "Name: Albert, Surname: Einstein, Place of birth: Germany\n"
     ]
    }
   ],
   "source": [
    "p3.print_info(1)"
   ]
  },
  {
   "cell_type": "code",
   "execution_count": 101,
   "id": "10d0bb7f",
   "metadata": {},
   "outputs": [],
   "source": [
    "Person.some_num =456"
   ]
  },
  {
   "cell_type": "code",
   "execution_count": 102,
   "id": "f90e990e",
   "metadata": {},
   "outputs": [],
   "source": [
    "p1.some_num = 789 #Перекрывает атрибут класса"
   ]
  },
  {
   "cell_type": "code",
   "execution_count": 103,
   "id": "73554dde",
   "metadata": {},
   "outputs": [],
   "source": [
    "class Circle:\n",
    "    PI=3.14 #Названия переменных которые являются константами всегда с большой буквы\n",
    "    def __init__(self,radius):\n",
    "        self.radius = radius\n",
    "    def get_perimeter(self):\n",
    "        return self.radius * 2 * self.PI #Можно (self.PI) и так и так (Circle.PI)\n",
    "    def get_area(self):\n",
    "        return Circle.PI * self.radius ** 2\n"
   ]
  },
  {
   "cell_type": "code",
   "execution_count": 104,
   "id": "47dcc897",
   "metadata": {},
   "outputs": [
    {
     "name": "stdout",
     "output_type": "stream",
     "text": [
      "18.84\n",
      "28.26\n"
     ]
    }
   ],
   "source": [
    "c1=Circle(3)\n",
    "print(c1.get_perimeter())\n",
    "print(c1.get_area())"
   ]
  },
  {
   "cell_type": "code",
   "execution_count": 105,
   "id": "45348d39",
   "metadata": {},
   "outputs": [
    {
     "name": "stdout",
     "output_type": "stream",
     "text": [
      "43.96\n",
      "153.86\n"
     ]
    }
   ],
   "source": [
    "c2=Circle(7)\n",
    "print(c2.get_perimeter())\n",
    "print(c2.get_area())"
   ]
  },
  {
   "cell_type": "code",
   "execution_count": 106,
   "id": "fa5c1de3",
   "metadata": {},
   "outputs": [
    {
     "data": {
      "text/plain": [
       "3"
      ]
     },
     "execution_count": 106,
     "metadata": {},
     "output_type": "execute_result"
    }
   ],
   "source": [
    "Person.people_count"
   ]
  },
  {
   "cell_type": "code",
   "execution_count": null,
   "id": "66935ef6",
   "metadata": {},
   "outputs": [],
   "source": []
  }
 ],
 "metadata": {
  "kernelspec": {
   "display_name": "Python 3 (ipykernel)",
   "language": "python",
   "name": "python3"
  },
  "language_info": {
   "codemirror_mode": {
    "name": "ipython",
    "version": 3
   },
   "file_extension": ".py",
   "mimetype": "text/x-python",
   "name": "python",
   "nbconvert_exporter": "python",
   "pygments_lexer": "ipython3",
   "version": "3.9.12"
  }
 },
 "nbformat": 4,
 "nbformat_minor": 5
}
