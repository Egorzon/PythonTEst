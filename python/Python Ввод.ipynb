{
 "cells": [
  {
   "cell_type": "code",
   "execution_count": 4,
   "id": "4f4b64df",
   "metadata": {},
   "outputs": [
    {
     "name": "stdout",
     "output_type": "stream",
     "text": [
      "hello\n",
      "введи число 1\n",
      "1\n",
      "Как тебя зовут? \n"
     ]
    }
   ],
   "source": [
    "print ('hello')\n",
    "choice = input ('введи число ')\n",
    "choice = int(choice)\n",
    "print (choice)\n",
    "if choice == 1:\n",
    "    print(\"Как тебя зовут? \")\n",
    "else:\n",
    "    print(\"Ну как хочешь.\")"
   ]
  },
  {
   "cell_type": "code",
   "execution_count": null,
   "id": "5a25ca03",
   "metadata": {
    "scrolled": true
   },
   "outputs": [
    {
     "name": "stdout",
     "output_type": "stream",
     "text": [
      "hello\n"
     ]
    }
   ],
   "source": [
    "print ('hello')\n",
    "choice = input ('введи число ')\n",
    "choice = int(choice)\n",
    "print (choice)\n",
    "if choice == 1:\n",
    "    print(\"Как тебя зовут? \")\n",
    "    choice = input ('введи имя ')\n",
    "    choice = int(choice)\n",
    "else:\n",
    "    print(\"Ну как хочешь.\")"
   ]
  },
  {
   "cell_type": "code",
   "execution_count": null,
   "id": "29cfb18b",
   "metadata": {},
   "outputs": [],
   "source": [
    "temp=a #Темп используется для замены переменной\n",
    "a=b\n",
    "b=temp"
   ]
  },
  {
   "cell_type": "code",
   "execution_count": null,
   "id": "ba33d26b",
   "metadata": {},
   "outputs": [],
   "source": []
  }
 ],
 "metadata": {
  "kernelspec": {
   "display_name": "Python 3 (ipykernel)",
   "language": "python",
   "name": "python3"
  },
  "language_info": {
   "codemirror_mode": {
    "name": "ipython",
    "version": 3
   },
   "file_extension": ".py",
   "mimetype": "text/x-python",
   "name": "python",
   "nbconvert_exporter": "python",
   "pygments_lexer": "ipython3",
   "version": "3.9.12"
  }
 },
 "nbformat": 4,
 "nbformat_minor": 5
}
