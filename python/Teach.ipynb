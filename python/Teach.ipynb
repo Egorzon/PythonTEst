{
 "cells": [
  {
   "cell_type": "code",
   "execution_count": null,
   "id": "d36a3b65",
   "metadata": {},
   "outputs": [],
   "source": [
    "fnumber = 5.6 #float не целое число"
   ]
  },
  {
   "cell_type": "code",
   "execution_count": null,
   "id": "51227133",
   "metadata": {},
   "outputs": [],
   "source": [
    "number = 5 #integer=int целое"
   ]
  },
  {
   "cell_type": "code",
   "execution_count": null,
   "id": "970720f3",
   "metadata": {},
   "outputs": [],
   "source": [
    "name = ('Nma') #string=str строка"
   ]
  },
  {
   "cell_type": "code",
   "execution_count": null,
   "id": "e9758671",
   "metadata": {},
   "outputs": [],
   "source": [
    "print('DAb \\'dab\\'ne') #Экранирование если нужно слово заключить в кавычки в коде"
   ]
  },
  {
   "cell_type": "code",
   "execution_count": null,
   "id": "5bb54975",
   "metadata": {},
   "outputs": [],
   "source": [
    "print('Привет\\nLA')#Перевод строки команда \\n"
   ]
  },
  {
   "cell_type": "code",
   "execution_count": null,
   "id": "5155206c",
   "metadata": {},
   "outputs": [],
   "source": [
    "print(\"Привет,меня зовут \"+ name +' !') #Конкатенация"
   ]
  },
  {
   "cell_type": "code",
   "execution_count": null,
   "id": "827f77d0",
   "metadata": {
    "scrolled": true
   },
   "outputs": [],
   "source": [
    "age = 20\n",
    "print(\"Мне \"+ str(age) +\" !\") #Конкатенация"
   ]
  },
  {
   "cell_type": "code",
   "execution_count": 2,
   "id": "12bd21d8",
   "metadata": {},
   "outputs": [
    {
     "name": "stdout",
     "output_type": "stream",
     "text": [
      "Введите свое имяEgor\n",
      "Твой возраст20\n",
      "Привет Egor !\n"
     ]
    }
   ],
   "source": [
    "name = input('Введите свое имя')\n",
    "age = input('Твой возраст')\n",
    "print(\"Привет \" + name + \" !\")"
   ]
  },
  {
   "cell_type": "code",
   "execution_count": 16,
   "id": "e9913ad5",
   "metadata": {},
   "outputs": [
    {
     "name": "stdout",
     "output_type": "stream",
     "text": [
      "2\n"
     ]
    }
   ],
   "source": [
    "a = 2.45\n",
    "print(round(a)) #round округление"
   ]
  },
  {
   "cell_type": "code",
   "execution_count": 11,
   "id": "b1ecbde6",
   "metadata": {},
   "outputs": [
    {
     "name": "stdout",
     "output_type": "stream",
     "text": [
      "5\n"
     ]
    }
   ],
   "source": [
    "import math\n",
    "a=5.65\n",
    "print(math.floor(a)) #floor в меньшую сторону округляет ,ceil в большую сторону"
   ]
  },
  {
   "cell_type": "code",
   "execution_count": 17,
   "id": "522befd7",
   "metadata": {},
   "outputs": [
    {
     "name": "stdout",
     "output_type": "stream",
     "text": [
      "3.141592653589793\n"
     ]
    }
   ],
   "source": [
    "import math\n",
    "print(math.pi)"
   ]
  },
  {
   "cell_type": "code",
   "execution_count": 2,
   "id": "ff5c54a6",
   "metadata": {},
   "outputs": [
    {
     "name": "stdout",
     "output_type": "stream",
     "text": [
      "\n",
      "Что делаем?(+,-,/,*):+\n",
      "ВВеди первое число: 10\n",
      "ВВеди второе число: 22\n",
      "Результат: 32.0\n"
     ]
    }
   ],
   "source": [
    "#Калькулятор\n",
    "from colorama import init\n",
    "from colorama import Fore,Back,Style\n",
    "init()\n",
    "print(Fore.GREEN)\n",
    "what = input(\"Что делаем?(+,-,/,*):\")\n",
    "a=float (input('ВВеди первое число: '))\n",
    "b=float (input('ВВеди второе число: '))\n",
    "if what == \"+\":\n",
    "    c = a + b\n",
    "    print ('Результат: ' + str(c))\n",
    "elif what == \"/\":\n",
    "    c = a / b\n",
    "    print ('Результат: ' + str(c))\n",
    "elif what == \"*\":\n",
    "    c = a * b\n",
    "    print ('Результат: ' + str(c))\n",
    "else:\n",
    "    print('Выбрана неверная операция')"
   ]
  },
  {
   "cell_type": "markdown",
   "id": "403b9565",
   "metadata": {},
   "source": []
  },
  {
   "cell_type": "code",
   "execution_count": 3,
   "id": "ea0c6dca",
   "metadata": {},
   "outputs": [
    {
     "name": "stdout",
     "output_type": "stream",
     "text": [
      "ВВод 10\n",
      "15\n"
     ]
    }
   ],
   "source": [
    "x = input(\"ВВод \")\n",
    "r = int(x) + 5 #integer переводит строку в целочисленое значение\n",
    "print(r)"
   ]
  },
  {
   "cell_type": "code",
   "execution_count": null,
   "id": "3db466d7",
   "metadata": {},
   "outputs": [],
   "source": []
  }
 ],
 "metadata": {
  "kernelspec": {
   "display_name": "Python 3 (ipykernel)",
   "language": "python",
   "name": "python3"
  },
  "language_info": {
   "codemirror_mode": {
    "name": "ipython",
    "version": 3
   },
   "file_extension": ".py",
   "mimetype": "text/x-python",
   "name": "python",
   "nbconvert_exporter": "python",
   "pygments_lexer": "ipython3",
   "version": "3.9.12"
  }
 },
 "nbformat": 4,
 "nbformat_minor": 5
}
